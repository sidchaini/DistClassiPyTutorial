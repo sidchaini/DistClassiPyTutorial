{
  "cells": [
    {
      "cell_type": "markdown",
      "metadata": {
        "id": "view-in-github",
        "colab_type": "text"
      },
      "source": [
        "<a href=\"https://colab.research.google.com/github/sidchaini/DistClassiPyTutorial/blob/main/tutorial.ipynb\" target=\"_parent\"><img src=\"https://colab.research.google.com/assets/colab-badge.svg\" alt=\"Open In Colab\"/></a>"
      ]
    },
    {
      "cell_type": "markdown",
      "metadata": {
        "id": "fEQ9rANvnC-h"
      },
      "source": [
        "### 0. Prerequisites"
      ]
    },
    {
      "cell_type": "code",
      "execution_count": null,
      "metadata": {
        "id": "ZZ5CAUOfHwO4"
      },
      "outputs": [],
      "source": [
        "!pip install distclassipy==0.2.1 # latest as of 2024-10-22"
      ]
    },
    {
      "cell_type": "code",
      "execution_count": null,
      "metadata": {
        "cellView": "form",
        "id": "opbD7PX2nC-i"
      },
      "outputs": [],
      "source": [
        "# @title\n",
        "%%capture\n",
        "!wget https://github.com/sidchaini/DistClassiPyTutorial/archive/refs/heads/main.zip\n",
        "!unzip main.zip\n",
        "!mv DistClassiPyTutorial-main/* .\n",
        "!rm -rf main.zip DistClassiPyTutorial-main"
      ]
    },
    {
      "cell_type": "code",
      "execution_count": null,
      "metadata": {
        "id": "9GC3xlkMQu-Z"
      },
      "outputs": [],
      "source": [
        "import numpy as np\n",
        "seed = 0\n",
        "np.random.seed(seed)\n",
        "import pandas as pd\n",
        "import distclassipy as dcpy\n",
        "import utils\n",
        "import matplotlib.pyplot as plt\n",
        "from sklearn.model_selection import train_test_split\n",
        "from sklearn.metrics import accuracy_score, f1_score"
      ]
    },
    {
      "cell_type": "markdown",
      "metadata": {
        "id": "Hl86nPk6nC-i"
      },
      "source": [
        "### 1. Visualizing 2D distance metric spaces\n",
        "\n",
        "We can visualize the distance metric space by plotting the locus of a central point, such as (5, 5) in a given two dimensional space. The locus appear as contour lines, which can illustrate geometry of the space when plotted in Euclidean space."
      ]
    },
    {
      "cell_type": "code",
      "execution_count": null,
      "metadata": {
        "cellView": "form",
        "id": "SmlzHQ2qnC-i"
      },
      "outputs": [],
      "source": [
        "# @title\n",
        "utils.visualize_distance(\"euclidean\")\n",
        "plt.show()"
      ]
    },
    {
      "cell_type": "markdown",
      "metadata": {
        "id": "fMw9bKpxnC-j"
      },
      "source": [
        "### 2. Data\n",
        "\n",
        "For this example, we will be using data from \"The ZTF Source Classification Project: III. A Catalog of Variable Sources\" through which they have made available on Zenodo.\n",
        "\n",
        "[![zenodo-badge](https://zenodo.org/badge/DOI/10.5281/zenodo.13920513.svg)](https://zenodo.org/records/13920513)\n",
        "\n",
        "I downloaded and sampled them to choose 4000 objects from 4 classes of variable stars:"
      ]
    },
    {
      "cell_type": "code",
      "execution_count": null,
      "metadata": {
        "id": "LLgsb-6KnC-j"
      },
      "outputs": [],
      "source": [
        "features = pd.read_csv(\"data/ztfscope_features.csv\", index_col=0)\n",
        "labels = pd.read_csv(\"data/ztfscope_labels.csv\", index_col=0)"
      ]
    },
    {
      "cell_type": "code",
      "source": [
        "# @title\n",
        "labels.value_counts()"
      ],
      "metadata": {
        "cellView": "form",
        "id": "U-YvxpBPnJGS"
      },
      "execution_count": null,
      "outputs": []
    },
    {
      "cell_type": "markdown",
      "metadata": {
        "id": "wb7byPLFnC-j"
      },
      "source": [
        "In the  understand what's going on, let us focus on three simple features (refer to [(Healy et al. 2024)](https://arxiv.org/abs/2312.00143) for more details):\n",
        "- ```inv_vonneumannratio```: Inverse of von Neumann ratio ([von Neumann 1941](https://projecteuclid.org/journals/annals-of-mathematical-statistics/volume-12/issue-4/Distribution-of-the-Ratio-of-the-Mean-Square-Successive-Difference/10.1214/aoms/1177731677.full), [1942](https://projecteuclid.org/journals/annals-of-mathematical-statistics/volume-13/issue-1/A-Further-Remark-Concerning-the-Distribution-of-the-Ratio-of/10.1214/aoms/1177731645.full)), which is the ratio of correlated variance and variance: a sign of variablity.\n",
        "- ```norm_peak_to_peak_amp```: Normalized peak-to-peak amplitude (Sokolovsky et al. 2009)\n",
        "- ```stetson_k```: Stetson K coefficient ([Stetson 1996](https://iopscience.iop.org/article/10.1086/133808/meta?casa_token=EMo0hxKqIkUAAAAA:b8y8ONGzEQAJq2WJfrCASQt_FMw7HX_h7i-VChDbTYc1ShDkEih4I2Sm184VFLTS1UpDbATGN8GPmTY4YXRG87jP2Q))"
      ]
    },
    {
      "cell_type": "code",
      "execution_count": null,
      "metadata": {
        "id": "Cj4roYFJnC-j"
      },
      "outputs": [],
      "source": [
        "feature_names = ..."
      ]
    },
    {
      "cell_type": "code",
      "execution_count": null,
      "metadata": {
        "cellView": "form",
        "id": "VWOb2JE6nC-j"
      },
      "outputs": [],
      "source": [
        "# @title\n",
        "X = features.loc[:,feature_names].to_numpy()\n",
        "y = labels.to_numpy().ravel()"
      ]
    },
    {
      "cell_type": "code",
      "execution_count": null,
      "metadata": {
        "cellView": "form",
        "id": "i_bp0NfmnC-j"
      },
      "outputs": [],
      "source": [
        "# @title\n",
        "X_train, X_test, y_train, y_test = train_test_split(\n",
        "    X, y, test_size=0.25, random_state=seed)"
      ]
    },
    {
      "cell_type": "markdown",
      "metadata": {
        "id": "wGyZd-HZnC-j"
      },
      "source": [
        "### 3. DistanceMetricClassifier\n",
        "\n",
        "The DistanceMetricClassifier calculates the distance between a centroid for each class, and each test point, and scales it by the standard deviation."
      ]
    },
    {
      "cell_type": "code",
      "execution_count": null,
      "metadata": {
        "id": "dHKNUz5_nC-j"
      },
      "outputs": [],
      "source": [
        "clf = ...\n",
        "clf.fit(...)"
      ]
    },
    {
      "cell_type": "code",
      "execution_count": null,
      "metadata": {
        "cellView": "form",
        "id": "fkznqICqnC-j"
      },
      "outputs": [],
      "source": [
        "# @title\n",
        "y_pred = clf.predict(X_test, metric=\"euclidean\")\n",
        "acc = accuracy_score(y_true = y_test, y_pred = y_pred)\n",
        "f1 = f1_score(y_true = y_test, y_pred = y_pred, average=\"macro\")\n",
        "\n",
        "print(f\"Accuracy = {acc:.3f}\")\n",
        "print(f\"F1 = {f1:.3f}\")"
      ]
    },
    {
      "cell_type": "code",
      "execution_count": null,
      "metadata": {
        "id": "KSrLoRFRnC-j"
      },
      "outputs": [],
      "source": [
        "quantile_scores_df, best_metrics_per_quantile, group_bins = dcpy.classifier.find_best_metrics(\n",
        "    clf, X_train, y_train, feat_idx=0, n_quantiles=6, random_state=seed\n",
        ")"
      ]
    },
    {
      "cell_type": "markdown",
      "metadata": {
        "id": "B-cXnFzVnC-j"
      },
      "source": [
        "### 4. EnsembleDistanceClassifier\n",
        "\n",
        "The EnsembleDistanceClassifier splits the training set into multiple quantiles based on a feature (```feat_idx```), iterates among all metrics to see which one performs the best on a validation set, and then prepares an ensemble based on the best performing metric for each quantile."
      ]
    },
    {
      "cell_type": "code",
      "execution_count": null,
      "metadata": {
        "id": "T4oDZ84inC-j"
      },
      "outputs": [],
      "source": [
        "ensemble_clf = ...\n",
        "ensemble_clf.fit(...)"
      ]
    },
    {
      "cell_type": "code",
      "execution_count": null,
      "metadata": {
        "cellView": "form",
        "id": "jzn67tG4nC-j"
      },
      "outputs": [],
      "source": [
        "# @title\n",
        "y_pred_ensemble = ensemble_clf.predict(X_test)\n",
        "acc = accuracy_score(y_true = y_test, y_pred = y_pred_ensemble)\n",
        "f1 = f1_score(y_true = y_test, y_pred = y_pred_ensemble, average=\"macro\")\n",
        "\n",
        "print(f\"Accuracy = {acc:.3f}\")\n",
        "print(f\"F1 = {f1:.3f}\")"
      ]
    }
  ],
  "metadata": {
    "colab": {
      "provenance": [],
      "include_colab_link": true
    },
    "kernelspec": {
      "display_name": "Python 3 (ipykernel)",
      "language": "python",
      "name": "python3"
    },
    "language_info": {
      "codemirror_mode": {
        "name": "ipython",
        "version": 3
      },
      "file_extension": ".py",
      "mimetype": "text/x-python",
      "name": "python",
      "nbconvert_exporter": "python",
      "pygments_lexer": "ipython3",
      "version": "3.12.4"
    }
  },
  "nbformat": 4,
  "nbformat_minor": 0
}